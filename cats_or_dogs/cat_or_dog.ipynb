{
 "cells": [
  {
   "cell_type": "code",
   "execution_count": null,
   "metadata": {},
   "outputs": [
    {
     "name": "stderr",
     "output_type": "stream",
     "text": [
      "Using TensorFlow backend.\n"
     ]
    }
   ],
   "source": [
    "from keras.models import load_model\n",
    "import numpy as np\n",
    "from skimage.io import imread\n",
    "from skimage.transform import resize\n",
    "from matplotlib import pyplot as plt\n",
    "%matplotlib inline"
   ]
  },
  {
   "cell_type": "code",
   "execution_count": null,
   "metadata": {},
   "outputs": [],
   "source": [
    "model = load_model(\"cnn_image_classifier.h5\")"
   ]
  },
  {
   "cell_type": "code",
   "execution_count": null,
   "metadata": {},
   "outputs": [],
   "source": [
    "URL = \"https://i.ytimg.com/vi/SfLV8hD7zX4/maxresdefault.jpg\"\n",
    "test_image = imread(URL)"
   ]
  },
  {
   "cell_type": "code",
   "execution_count": null,
   "metadata": {},
   "outputs": [],
   "source": [
    "def show_image(image, prediction=None, confidence=None, show_confidence=False):\n",
    "    plt.imshow(image)\n",
    "    plt.axis('off')\n",
    "    if prediction is not None:\n",
    "        plt.rc('axes', titlesize=16)\n",
    "        if show_confidence:\n",
    "            plt.title(\"I predict this is a \" + str(prediction) + \"! (with confidence \" + str(confidence) + \")\")\n",
    "        else:\n",
    "            plt.title(\"I predict this is a \" + str(prediction) + \"!\")\n",
    "    plt.show()"
   ]
  },
  {
   "cell_type": "code",
   "execution_count": null,
   "metadata": {},
   "outputs": [],
   "source": [
    "show_image(test_image)"
   ]
  },
  {
   "cell_type": "code",
   "execution_count": null,
   "metadata": {},
   "outputs": [],
   "source": [
    "def fix_image(image):\n",
    "    return resize(image, (150, 150, 3), mode='constant')"
   ]
  },
  {
   "cell_type": "code",
   "execution_count": null,
   "metadata": {},
   "outputs": [],
   "source": [
    "image_in = fix_image(test_image)\n",
    "show_image(image_in)"
   ]
  },
  {
   "cell_type": "code",
   "execution_count": null,
   "metadata": {},
   "outputs": [],
   "source": [
    "def get_prediction(image):\n",
    "    images_to_predict = np.asarray([image])\n",
    "    predictions = model.predict(images_to_predict)\n",
    "    prediction = predictions[0][0]\n",
    "    return prediction"
   ]
  },
  {
   "cell_type": "code",
   "execution_count": null,
   "metadata": {},
   "outputs": [],
   "source": [
    "prediction = get_prediction(image_in)\n",
    "print(\"I predict \" + str(prediction) + \"!\")"
   ]
  },
  {
   "cell_type": "code",
   "execution_count": null,
   "metadata": {},
   "outputs": [],
   "source": [
    "def cat_or_dog(image):\n",
    "    images_to_predict = np.asarray([image])\n",
    "    predictions = model.predict(images_to_predict)\n",
    "    confidence = predictions[0][0]\n",
    "    if confidence > 0.5:\n",
    "        return \"dog\", confidence\n",
    "    else:\n",
    "        return \"cat\", 1 - confidence"
   ]
  },
  {
   "cell_type": "code",
   "execution_count": null,
   "metadata": {},
   "outputs": [],
   "source": [
    "prediction, confidence = cat_or_dog(image_in)\n",
    "print(\"I predict \" + prediction + \"!\")"
   ]
  },
  {
   "cell_type": "code",
   "execution_count": null,
   "metadata": {},
   "outputs": [],
   "source": [
    "def cat_or_dog_url(URL, show_confidence=False):\n",
    "    test_image = imread(URL)\n",
    "    image_in = fix_image(test_image)\n",
    "    prediction, confidence = cat_or_dog(image_in)\n",
    "    show_image(test_image, prediction=prediction, confidence=confidence, show_confidence=show_confidence)"
   ]
  },
  {
   "cell_type": "code",
   "execution_count": null,
   "metadata": {},
   "outputs": [],
   "source": [
    "cat_or_dog_url(\"https://s7d2.scene7.com/is/image/PetSmart/PB1201_STORY_CARO-Authority-HealthyOutside-DOG-20160818?$PB1201$\")"
   ]
  },
  {
   "cell_type": "code",
   "execution_count": null,
   "metadata": {},
   "outputs": [],
   "source": [
    "cat_or_dog_url(\"https://www.what-dog.net/Images/faces2/scroll001.jpg\")"
   ]
  },
  {
   "cell_type": "code",
   "execution_count": null,
   "metadata": {},
   "outputs": [],
   "source": [
    "cat_or_dog_url(\"https://cdn.pixabay.com/photo/2016/08/10/02/55/kitten-1582384_960_720.jpg\")"
   ]
  },
  {
   "cell_type": "code",
   "execution_count": null,
   "metadata": {},
   "outputs": [],
   "source": [
    "cat_or_dog_url(\"https://www.cats.org.uk/uploads/images/featurebox_sidebar_kids/grief-and-loss.jpg\")"
   ]
  }
 ],
 "metadata": {
  "kernelspec": {
   "display_name": "Python 3",
   "language": "python",
   "name": "python3"
  },
  "language_info": {
   "codemirror_mode": {
    "name": "ipython",
    "version": 3
   },
   "file_extension": ".py",
   "mimetype": "text/x-python",
   "name": "python",
   "nbconvert_exporter": "python",
   "pygments_lexer": "ipython3",
   "version": "3.5.3"
  }
 },
 "nbformat": 4,
 "nbformat_minor": 2
}
