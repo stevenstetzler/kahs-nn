{
 "cells": [
  {
   "cell_type": "markdown",
   "metadata": {},
   "source": [
    "# Introduction to Python Snytax\n",
    "This notebook is meant to introduce you to Python syntax, data types, and data structures.\n",
    "\n",
    "## Hello World!\n",
    "In comparison to other languages, Python's 'Hello, world!' program is really neat and simple."
   ]
  },
  {
   "cell_type": "code",
   "execution_count": 1,
   "metadata": {},
   "outputs": [
    {
     "name": "stdout",
     "output_type": "stream",
     "text": [
      "Hello, world!\n"
     ]
    }
   ],
   "source": [
    "print(\"Hello, world!\")"
   ]
  },
  {
   "cell_type": "markdown",
   "metadata": {},
   "source": [
    "## Variables, Data Types, and Data Structures\n",
    "There are a few main data types in Python: **ints** (`1`, `-5`, `1000`), **floats** (`1.0`, `-2,457`, `1e100`), **strings** (`'Hi!'`, `\"Hello.\"`), **characters** (`\"H\"`, `'i'`, `'!'`), **bytes**, and **booleans** (`True`, `False`). In Python, variables are declared with the syntax `variable_name = variable_value`. Python doesn't do any **type checking**, so you don't need to explicitely declare what type each variable is."
   ]
  },
  {
   "cell_type": "code",
   "execution_count": 2,
   "metadata": {},
   "outputs": [],
   "source": [
    "an_integer = 2\n",
    "a_float = 1e-19\n",
    "a_string = 'Hello'\n",
    "another_string = \", world\"\n",
    "a_character = \"!\"\n",
    "a_boolean = False"
   ]
  },
  {
   "cell_type": "code",
   "execution_count": 3,
   "metadata": {},
   "outputs": [
    {
     "name": "stdout",
     "output_type": "stream",
     "text": [
      "2 1e-19 Hello , world ! False\n"
     ]
    }
   ],
   "source": [
    "print(an_integer, a_float, a_string, another_string, a_character, a_boolean)"
   ]
  },
  {
   "cell_type": "markdown",
   "metadata": {},
   "source": [
    "There are also two useful **data structures** in Python: Lists (`[item_one, item_two]`) and Dictionaries (`{ key : value}`). Lists can hold data of **any type** in a sequential list. You can access items in the list using **indexing**: `list[0]` $\\rightarrow$ `item_one`. Dictionaries hold **keys** (or words) which **map** to a corresponding **value** (or definition). Dictionaries are accessed using **indexing** by **keys**: `dict[key]` $ \\rightarrow $ `value`."
   ]
  },
  {
   "cell_type": "code",
   "execution_count": 4,
   "metadata": {},
   "outputs": [
    {
     "name": "stdout",
     "output_type": "stream",
     "text": [
      "[2, 1e-19, 'Hello', ', world', '!', False]\n",
      "1e-19\n"
     ]
    }
   ],
   "source": [
    "a_list = [an_integer, a_float, a_string, another_string, a_character, a_boolean]\n",
    "print(a_list)\n",
    "print(a_list[1])"
   ]
  },
  {
   "cell_type": "markdown",
   "metadata": {},
   "source": [
    "Two important functions for the list type are the `append` and `remove` functions."
   ]
  },
  {
   "cell_type": "code",
   "execution_count": 5,
   "metadata": {},
   "outputs": [
    {
     "name": "stdout",
     "output_type": "stream",
     "text": [
      "[2, 1e-19, 'Hello', ', world', '!', False]\n",
      "[2, 1e-19, 'Hello', ', world', '!', False, \"I'm a new item!\"]\n",
      "[2, 1e-19, 'Hello', ', world', '!', False]\n"
     ]
    }
   ],
   "source": [
    "print(a_list)\n",
    "\n",
    "new_item = \"I'm a new item!\"\n",
    "\n",
    "a_list.append(new_item)\n",
    "print(a_list)\n",
    "\n",
    "a_list.remove(new_item)\n",
    "print(a_list)"
   ]
  },
  {
   "cell_type": "code",
   "execution_count": 6,
   "metadata": {},
   "outputs": [
    {
     "name": "stdout",
     "output_type": "stream",
     "text": [
      "2\n",
      "1e-19\n",
      "dict_keys(['float', 'int'])\n",
      "dict_values([1e-19, 2])\n"
     ]
    }
   ],
   "source": [
    "a_dict = {'int' : an_integer, 'float' : a_float}\n",
    "print(a_dict['int'])\n",
    "print(a_dict['float'])\n",
    "\n",
    "print(a_dict.keys())\n",
    "print(a_dict.values())"
   ]
  },
  {
   "cell_type": "markdown",
   "metadata": {},
   "source": [
    "## Printing\n",
    "There are a few ways that you can print out values. You can always use `print(value)` regardless of what type `value` is, but we often want to embed `value` in a string, which can be done by converting `value` to a **string** using `str(value)`, or using the `%` operator or `format()` function"
   ]
  },
  {
   "cell_type": "code",
   "execution_count": 7,
   "metadata": {},
   "outputs": [
    {
     "name": "stdout",
     "output_type": "stream",
     "text": [
      "Hello\n",
      ", world\n",
      "!\n",
      "Hello, world!\n"
     ]
    }
   ],
   "source": [
    "print(a_string)\n",
    "print(another_string)\n",
    "print(a_character)\n",
    "print(a_string + another_string + a_character)\n",
    "hello_world = a_string + another_string + a_character"
   ]
  },
  {
   "cell_type": "code",
   "execution_count": 8,
   "metadata": {},
   "outputs": [
    {
     "name": "stdout",
     "output_type": "stream",
     "text": [
      "Hello, world! (take 2)\n"
     ]
    }
   ],
   "source": [
    "print(hello_world + \" (take \" + str(2) + \")\")"
   ]
  },
  {
   "cell_type": "code",
   "execution_count": 9,
   "metadata": {},
   "outputs": [
    {
     "name": "stdout",
     "output_type": "stream",
     "text": [
      "Hello, world! (take 3)\n"
     ]
    }
   ],
   "source": [
    "print(\"%s (take %s)\" % (hello_world, 3))"
   ]
  },
  {
   "cell_type": "code",
   "execution_count": 10,
   "metadata": {},
   "outputs": [
    {
     "name": "stdout",
     "output_type": "stream",
     "text": [
      "Hello, world! (take 4)\n"
     ]
    }
   ],
   "source": [
    "print(\"{0} (take {1})\".format(hello_world, 4))"
   ]
  },
  {
   "cell_type": "markdown",
   "metadata": {},
   "source": [
    "## If Statements\n",
    "If statements follow the form: `if condition:` followed by a new line and either a tab or 4 spaces. To follow up on the first condition you use `elif condition_2:` and to capture all other conditions you use `else:`. Nice and clean syntax!"
   ]
  },
  {
   "cell_type": "code",
   "execution_count": 11,
   "metadata": {},
   "outputs": [
    {
     "name": "stdout",
     "output_type": "stream",
     "text": [
      "Hello, world!\n"
     ]
    }
   ],
   "source": [
    "greeting = True\n",
    "goodbye = False\n",
    "if greeting:\n",
    "    print(\"Hello, world!\")\n",
    "elif goodbye:\n",
    "    print(\"Goodbye, world!\")\n",
    "else:\n",
    "    print(\"I don't know what to say, world!\")"
   ]
  },
  {
   "cell_type": "markdown",
   "metadata": {},
   "source": [
    "You can compare two values using the `is` statement or the `==` statement."
   ]
  },
  {
   "cell_type": "code",
   "execution_count": 12,
   "metadata": {},
   "outputs": [
    {
     "name": "stdout",
     "output_type": "stream",
     "text": [
      "Ich weiss nicht was ich sagen soll, welt!\n"
     ]
    }
   ],
   "source": [
    "greeting = None\n",
    "if greeting is 'Hello':\n",
    "    print(\"Hello, world!\")\n",
    "elif greeting == 'Hallo':\n",
    "    print(\"Hallo, welt!\")\n",
    "elif greeting is None:\n",
    "    print(\"Ich weiss nicht was ich sagen soll, welt!\")\n",
    "else:\n",
    "    print(greeting)"
   ]
  },
  {
   "cell_type": "markdown",
   "metadata": {},
   "source": [
    "## For Loops\n",
    "\n",
    "For loops have the syntax `for item in items:` followed by a new line or 4 spaces. In Python, for loops are a bit different, because they act as an iterator, not a condition checker."
   ]
  },
  {
   "cell_type": "code",
   "execution_count": 13,
   "metadata": {},
   "outputs": [
    {
     "name": "stdout",
     "output_type": "stream",
     "text": [
      "2\n",
      "1e-19\n",
      "Hello\n",
      ", world\n",
      "!\n",
      "False\n"
     ]
    }
   ],
   "source": [
    "# Loop through all of the items in a list\n",
    "for item in a_list:\n",
    "    print(item)"
   ]
  },
  {
   "cell_type": "markdown",
   "metadata": {},
   "source": [
    "You can perform a fixed number of iterations using the `range()` function."
   ]
  },
  {
   "cell_type": "code",
   "execution_count": 14,
   "metadata": {},
   "outputs": [
    {
     "data": {
      "text/plain": [
       "range(0, 5)"
      ]
     },
     "execution_count": 14,
     "metadata": {},
     "output_type": "execute_result"
    }
   ],
   "source": [
    "range(5)"
   ]
  },
  {
   "cell_type": "code",
   "execution_count": 15,
   "metadata": {},
   "outputs": [
    {
     "name": "stdout",
     "output_type": "stream",
     "text": [
      "0\n",
      "1\n",
      "2\n",
      "3\n",
      "4\n"
     ]
    }
   ],
   "source": [
    "# Do something 5 times!\n",
    "for i in range(5):\n",
    "    print(i)"
   ]
  },
  {
   "cell_type": "markdown",
   "metadata": {},
   "source": [
    "### List Concatenation (Neater For Loops)\n",
    "Python has some really slick syntax for looping through and make lists called **list concatenations**. This syntax allows you to write for loops in one line!"
   ]
  },
  {
   "cell_type": "code",
   "execution_count": 16,
   "metadata": {},
   "outputs": [
    {
     "name": "stdout",
     "output_type": "stream",
     "text": [
      "[1, 2, 3, 4, 5]\n",
      "[0, 1, 2, 3, 4, 5, 6, 7, 8, 9]\n"
     ]
    }
   ],
   "source": [
    "my_list = [0, 1, 2, 3, 4]\n",
    "\n",
    "new_list = [list_item + 1 for list_item in my_list]\n",
    "print(new_list)\n",
    "\n",
    "another_list = [i for i in range(0, 10)]\n",
    "print(another_list)"
   ]
  },
  {
   "cell_type": "markdown",
   "metadata": {},
   "source": [
    "This is as opposed to"
   ]
  },
  {
   "cell_type": "code",
   "execution_count": 17,
   "metadata": {},
   "outputs": [
    {
     "name": "stdout",
     "output_type": "stream",
     "text": [
      "[1, 2, 3, 4, 5]\n",
      "[0, 1, 2, 3, 4, 5, 6, 7, 8, 9]\n"
     ]
    }
   ],
   "source": [
    "my_list = [0, 1, 2, 3, 4]\n",
    "\n",
    "new_list = []\n",
    "for list_item in my_list:\n",
    "    new_list.append(list_item + 1)\n",
    "print(new_list)\n",
    "    \n",
    "another_list = []\n",
    "for i in range(0, 10):\n",
    "    another_list.append(i)\n",
    "print(another_list)"
   ]
  },
  {
   "cell_type": "markdown",
   "metadata": {},
   "source": [
    "## Functions\n",
    "Functions are also clean and easy to make in Python, using the syntax `def my_function_name(arguments):` followed by a new line and a tab or 4 spaces to encapsulate code inside the function."
   ]
  },
  {
   "cell_type": "code",
   "execution_count": 18,
   "metadata": {},
   "outputs": [],
   "source": [
    "def my_function():\n",
    "    print(\"I'm a function!\")"
   ]
  },
  {
   "cell_type": "code",
   "execution_count": 19,
   "metadata": {},
   "outputs": [
    {
     "name": "stdout",
     "output_type": "stream",
     "text": [
      "I'm a function!\n"
     ]
    }
   ],
   "source": [
    "my_function()"
   ]
  },
  {
   "cell_type": "code",
   "execution_count": 20,
   "metadata": {},
   "outputs": [],
   "source": [
    "def my_returning_function(name):\n",
    "    return \"Hello, {}!\".format(name)"
   ]
  },
  {
   "cell_type": "code",
   "execution_count": 21,
   "metadata": {},
   "outputs": [
    {
     "name": "stdout",
     "output_type": "stream",
     "text": [
      "Hello, Steven!\n"
     ]
    }
   ],
   "source": [
    "print(my_returning_function(\"Steven\"))"
   ]
  },
  {
   "cell_type": "code",
   "execution_count": 22,
   "metadata": {},
   "outputs": [
    {
     "name": "stdout",
     "output_type": "stream",
     "text": [
      "Hello, Jordan!\n"
     ]
    }
   ],
   "source": [
    "print(my_returning_function(\"Jordan\"))"
   ]
  },
  {
   "cell_type": "markdown",
   "metadata": {},
   "source": [
    "## Classes\n",
    "Classes are Python's approach to **object oriented** programming. Their syntax is `class my_class_name():` followed by a new line and a tab or 4 spaces to encapsulate the **variables** and **functions** belonging to the class."
   ]
  },
  {
   "cell_type": "code",
   "execution_count": 23,
   "metadata": {},
   "outputs": [],
   "source": [
    "class animal():\n",
    "    species = None\n",
    "\n",
    "    def __init__(self, species):\n",
    "        self.species = species\n",
    "\n",
    "    def make_noise(self):\n",
    "        if self.species is 'Cow':\n",
    "            print(\"Moo!\")\n",
    "        elif self.species is 'Cat':\n",
    "            print(\"Meow...\")\n",
    "        else:\n",
    "            print(\"I don't know what to say, creator.\")"
   ]
  },
  {
   "cell_type": "code",
   "execution_count": 24,
   "metadata": {},
   "outputs": [
    {
     "name": "stdout",
     "output_type": "stream",
     "text": [
      "Cow\n",
      "Moo!\n"
     ]
    }
   ],
   "source": [
    "my_cow = animal('Cow')\n",
    "print(my_cow.species)\n",
    "my_cow.make_noise()"
   ]
  },
  {
   "cell_type": "code",
   "execution_count": 25,
   "metadata": {},
   "outputs": [
    {
     "name": "stdout",
     "output_type": "stream",
     "text": [
      "Cat\n",
      "Meow...\n"
     ]
    }
   ],
   "source": [
    "my_cat = animal('Cat')\n",
    "print(my_cat.species)\n",
    "my_cat.make_noise()"
   ]
  }
 ],
 "metadata": {
  "kernelspec": {
   "display_name": "Python 3",
   "language": "python",
   "name": "python3"
  },
  "language_info": {
   "codemirror_mode": {
    "name": "ipython",
    "version": 3
   },
   "file_extension": ".py",
   "mimetype": "text/x-python",
   "name": "python",
   "nbconvert_exporter": "python",
   "pygments_lexer": "ipython3",
   "version": "3.5.3"
  }
 },
 "nbformat": 4,
 "nbformat_minor": 2
}
