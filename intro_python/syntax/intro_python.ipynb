{
 "cells": [
  {
   "cell_type": "code",
   "execution_count": 1,
   "metadata": {},
   "outputs": [
    {
     "name": "stdout",
     "output_type": "stream",
     "text": [
      "Hello, world!\n"
     ]
    }
   ],
   "source": [
    "print(\"Hello, world!\")"
   ]
  },
  {
   "cell_type": "code",
   "execution_count": 41,
   "metadata": {},
   "outputs": [],
   "source": [
    "a = 2\n",
    "b = \"Hello\"\n",
    "c = \",\"\n",
    "d = \" \"\n",
    "e = \"world\"\n",
    "f = \"!\"\n",
    "list_of_vars = [a, b, c, d, e, f]"
   ]
  },
  {
   "cell_type": "code",
   "execution_count": 43,
   "metadata": {},
   "outputs": [
    {
     "name": "stdout",
     "output_type": "stream",
     "text": [
      "2 Hello ,   world !\n"
     ]
    }
   ],
   "source": [
    "print(a, b, c, d, e, f)"
   ]
  },
  {
   "cell_type": "code",
   "execution_count": 44,
   "metadata": {},
   "outputs": [
    {
     "name": "stdout",
     "output_type": "stream",
     "text": [
      "[2, 'Hello', ',', ' ', 'world', '!']\n"
     ]
    }
   ],
   "source": [
    "print(list_of_vars)"
   ]
  },
  {
   "cell_type": "code",
   "execution_count": 9,
   "metadata": {},
   "outputs": [
    {
     "name": "stdout",
     "output_type": "stream",
     "text": [
      "Hello, world!\n"
     ]
    }
   ],
   "source": [
    "print(b + c + d + e + f)"
   ]
  },
  {
   "cell_type": "code",
   "execution_count": 36,
   "metadata": {},
   "outputs": [],
   "source": [
    "hello_world = b + c + d + e + f"
   ]
  },
  {
   "cell_type": "code",
   "execution_count": 37,
   "metadata": {},
   "outputs": [
    {
     "name": "stdout",
     "output_type": "stream",
     "text": [
      "Hello, world! (take 2)\n"
     ]
    }
   ],
   "source": [
    "print(hello_world + \" (take \" + str(a) + \")\")"
   ]
  },
  {
   "cell_type": "code",
   "execution_count": 38,
   "metadata": {},
   "outputs": [
    {
     "name": "stdout",
     "output_type": "stream",
     "text": [
      "Hello, world! (take 2)\n"
     ]
    }
   ],
   "source": [
    "print(\"%s (take %s)\" % (hello_world, a))"
   ]
  },
  {
   "cell_type": "code",
   "execution_count": 19,
   "metadata": {},
   "outputs": [
    {
     "name": "stdout",
     "output_type": "stream",
     "text": [
      "Hello, world! (take 2)\n"
     ]
    }
   ],
   "source": [
    "print(\"{0} (take {1})\".format(hello_world, a))"
   ]
  },
  {
   "cell_type": "code",
   "execution_count": 27,
   "metadata": {},
   "outputs": [
    {
     "name": "stdout",
     "output_type": "stream",
     "text": [
      "I don't know what to say, world!\n"
     ]
    }
   ],
   "source": [
    "greeting = False\n",
    "goodbye = False\n",
    "if greeting:\n",
    "    print(\"Hello, world!\")\n",
    "elif goodbye:\n",
    "    print(\"Goodbye, world!\")\n",
    "else:\n",
    "    print(\"I don't know what to say, world!\")"
   ]
  },
  {
   "cell_type": "code",
   "execution_count": 33,
   "metadata": {},
   "outputs": [
    {
     "name": "stdout",
     "output_type": "stream",
     "text": [
      "Ich weiss nicht was ich solle sagen, welt!\n"
     ]
    }
   ],
   "source": [
    "greeting = None\n",
    "if greeting is 'Hello':\n",
    "    print(\"Hello, world!\")\n",
    "elif greeting is 'Hallo':\n",
    "    print(\"Hallo, welt!\")\n",
    "else:\n",
    "    print(\"Ich weiss nicht was ich sagen soll, welt!\")"
   ]
  },
  {
   "cell_type": "code",
   "execution_count": null,
   "metadata": {},
   "outputs": [],
   "source": []
  }
 ],
 "metadata": {
  "kernelspec": {
   "display_name": "Python 3",
   "language": "python",
   "name": "python3"
  },
  "language_info": {
   "codemirror_mode": {
    "name": "ipython",
    "version": 3
   },
   "file_extension": ".py",
   "mimetype": "text/x-python",
   "name": "python",
   "nbconvert_exporter": "python",
   "pygments_lexer": "ipython3",
   "version": "3.5.3"
  }
 },
 "nbformat": 4,
 "nbformat_minor": 2
}
