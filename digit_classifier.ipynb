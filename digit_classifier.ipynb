{
 "cells": [
  {
   "cell_type": "code",
   "execution_count": 1,
   "metadata": {},
   "outputs": [
    {
     "name": "stderr",
     "output_type": "stream",
     "text": [
      "Using TensorFlow backend.\n"
     ]
    }
   ],
   "source": [
    "import tensorflow\n",
    "import keras\n",
    "from keras.datasets import mnist\n",
    "from keras.optimizers import RMSprop\n",
    "from keras.models import Sequential, load_model\n",
    "from keras.layers import Dense\n",
    "import numpy as np\n",
    "import matplotlib.pyplot as plt\n",
    "import cv2\n",
    "%matplotlib inline"
   ]
  },
  {
   "cell_type": "markdown",
   "metadata": {},
   "source": [
    "### Helper Functions\n",
    "\n",
    "We define a few helper functions to let us examine our data.\n",
    "```python\n",
    "def show_numbers(numbers, labels)\n",
    "```\n",
    "Takes as input a few black and white images of our numbers, called `numbers`, and their labels, called `labels`, and produces pictures of them for us."
   ]
  },
  {
   "cell_type": "code",
   "execution_count": 2,
   "metadata": {},
   "outputs": [],
   "source": [
    "def show_numbers(numbers, labels):\n",
    "    # If our image is flattened already, then make it a square again\n",
    "    if len(numbers[0]) == 784:\n",
    "        numbers = np.asarray(numbers).reshape(len(numbers), 28, 28)\n",
    "    # If our labels are vectorized already, let's get them back to a list of numbers\n",
    "    if type(labels[0]) == np.ndarray:\n",
    "        labels = np.argmax(labels, axis=1)\n",
    "\n",
    "    for number, label in zip(numbers, labels):\n",
    "        # Plot the number using a gray color scheme.\n",
    "        plt.imshow(number, cmap='gray')\n",
    "        # Provide a title - the label for the number image\n",
    "        plt.title(\"This is a {}\".format(label))\n",
    "        # Remove the axis tics\n",
    "        plt.axis('off')\n",
    "        # Make the font of the plot bigger\n",
    "        plt.rc('axes', titlesize=16)\n",
    "        # Show the image!\n",
    "        plt.show()"
   ]
  },
  {
   "cell_type": "markdown",
   "metadata": {},
   "source": [
    "```python\n",
    "def pre_process_data(numbers)\n",
    "```\n",
    "Is a function that takes as input the images of our numbers, called `numbers`, and produces as output images of the same numbers that are slightly different in a few ways. First, our input images are $28\\times28$ pixels (squares). We want however to attach each pixel to 1 input neuron in our neural network. This means we have to **flatten** our images from squares to lines. We do this using the line:\n",
    "```python\n",
    "numbers = numbers.reshape(len(numbers), 784)\n",
    "```\n",
    "The brightness of each pixel is actually encoded with an **integer** from 0 to 255, where 0 means black and 255 means white. What we want however is for our pixel brightnesses to be represented by a **real** number from 0 to 1, where 0 means black and 1 means white. Both of these steps is done with the two lines:\n",
    "```python\n",
    "numbers = numbers.astype('float32')\n",
    "numbers = numbers / 255.\n",
    "```"
   ]
  },
  {
   "cell_type": "code",
   "execution_count": 3,
   "metadata": {},
   "outputs": [],
   "source": [
    "def pre_process_data(numbers):\n",
    "    # Flatten out each of the number images so that are 1 dimensional array\n",
    "    numbers = numbers.reshape(len(numbers), 784)\n",
    "    numbers = numbers.astype('float32')\n",
    "    numbers = numbers / 255.\n",
    "    return numbers"
   ]
  },
  {
   "cell_type": "markdown",
   "metadata": {},
   "source": [
    "```python\n",
    "def pre_process_labels(labels, number_of_labels=10)\n",
    "```\n",
    "Is a function that takes as input our labels, called `labels`, along with the number of labels, called `number_of_labels` (who's default value is 10), and produces as output labels which have been converted to a **one-hot vector**. For example, the number 3 is converted to a list of 10 numbers, all 0 except for the *fourth* number which is a 1: 3 $\\rightarrow \\left[0, 0, 0, 1, 0, 0, 0, 0, 0, 0\\right]$.\n",
    "\n",
    "This is all done using the line:\n",
    "```python\n",
    "new_labels = keras.utils.to_categorical(labels, number_of_labels)\n",
    "```"
   ]
  },
  {
   "cell_type": "code",
   "execution_count": 4,
   "metadata": {},
   "outputs": [],
   "source": [
    "def pre_process_labels(labels, number_of_labels=10):\n",
    "    new_labels = keras.utils.to_categorical(labels, number_of_labels)\n",
    "    return new_labels"
   ]
  },
  {
   "cell_type": "markdown",
   "metadata": {},
   "source": [
    "```python\n",
    "def get_predictions(test_data, model)\n",
    "```\n",
    "Is a function that takes as input the images we want to classify, called `test_data`, along with a trained neural network which will do the classification, called `model`. The line \n",
    "```python\n",
    "model_predictions = model.predict(test_data)\n",
    "``` \n",
    "returns a **vector** of values, similar to our labels. The *index* of the entry in the list with the largest value is our prediction for how to classify our new image! We find these indices using the line\n",
    "```python\n",
    "number_predictions = np.argmax(model_predictions, axis=1)\n",
    "```\n",
    "where `np.argmax` finds us the **argument** or the **index** with **maximum** value for each of our prediction lists."
   ]
  },
  {
   "cell_type": "code",
   "execution_count": 5,
   "metadata": {},
   "outputs": [],
   "source": [
    "def get_predictions(test_data, model):\n",
    "    model_predictions = model.predict(test_data)\n",
    "    number_predictions = np.argmax(model_predictions, axis=1)\n",
    "    return number_predictions"
   ]
  },
  {
   "cell_type": "markdown",
   "metadata": {},
   "source": [
    "### Loading the data"
   ]
  },
  {
   "cell_type": "code",
   "execution_count": 6,
   "metadata": {},
   "outputs": [
    {
     "data": {
      "image/png": "[encoded data removed]",
      "text/plain": [
       "<matplotlib.figure.Figure at 0x26aa767d7f0>"
      ]
     },
     "metadata": {},
     "output_type": "display_data"
    }
   ],
   "source": [
    "train_data, test_data = mnist.load_data()\n",
    "\n",
    "number_images, number_labels = train_data\n",
    "x_test, y_test = test_data\n",
    "\n",
    "num_images_to_show = 1\n",
    "\n",
    "show_numbers(number_images[0:num_images_to_show], number_labels[0:num_images_to_show])"
   ]
  },
  {
   "cell_type": "code",
   "execution_count": 7,
   "metadata": {},
   "outputs": [],
   "source": [
    "x_train = pre_process_data(number_images)\n",
    "x_test = pre_process_data(x_test)\n",
    "\n",
    "y_train = pre_process_labels(number_labels)\n",
    "y_test = pre_process_labels(y_test)"
   ]
  },
  {
   "cell_type": "markdown",
   "metadata": {},
   "source": [
    "### Create the Neural Network"
   ]
  },
  {
   "cell_type": "code",
   "execution_count": 8,
   "metadata": {},
   "outputs": [
    {
     "name": "stdout",
     "output_type": "stream",
     "text": [
      "_________________________________________________________________\n",
      "Layer (type)                 Output Shape              Param #   \n",
      "=================================================================\n",
      "dense_1 (Dense)              (None, 256)               200960    \n",
      "_________________________________________________________________\n",
      "dense_2 (Dense)              (None, 256)               65792     \n",
      "_________________________________________________________________\n",
      "dense_3 (Dense)              (None, 10)                2570      \n",
      "=================================================================\n",
      "Total params: 269,322.0\n",
      "Trainable params: 269,322\n",
      "Non-trainable params: 0.0\n",
      "_________________________________________________________________\n"
     ]
    }
   ],
   "source": [
    "model = Sequential()\n",
    "model.add(Dense(256, activation='relu', input_shape=(784,)))\n",
    "model.add(Dense(256, activation='relu', input_shape=(784,)))\n",
    "model.add(Dense(10, activation='softmax'))\n",
    "\n",
    "loss_type = 'mean_squared_error'\n",
    "model.compile(loss=loss_type, optimizer=RMSprop(), metrics=['accuracy'])\n",
    "\n",
    "model.summary()"
   ]
  },
  {
   "cell_type": "markdown",
   "metadata": {},
   "source": [
    "### Train the Neural Network"
   ]
  },
  {
   "cell_type": "code",
   "execution_count": 9,
   "metadata": {},
   "outputs": [
    {
     "name": "stdout",
     "output_type": "stream",
     "text": [
      "Train on 60000 samples, validate on 10000 samples\n",
      "Epoch 1/1\n",
      "60000/60000 [==============================] - 7s - loss: 0.0121 - acc: 0.9198 - val_loss: 0.0063 - val_acc: 0.9585\n"
     ]
    }
   ],
   "source": [
    "batch_size = 128\n",
    "epochs = 1\n",
    "\n",
    "model.fit(x_train, y_train, batch_size=batch_size, epochs=epochs, verbose=True, validation_data=(x_test, y_test))\n",
    "\n",
    "score = model.evaluate(x_test, y_test, verbose=0)"
   ]
  },
  {
   "cell_type": "markdown",
   "metadata": {},
   "source": [
    "### Let's see what we get!"
   ]
  },
  {
   "cell_type": "code",
   "execution_count": 10,
   "metadata": {},
   "outputs": [
    {
     "name": "stdout",
     "output_type": "stream",
     "text": [
      "[7 2 1 ..., 4 5 6]\n"
     ]
    }
   ],
   "source": [
    "model_predictions = get_predictions(x_test, model)\n",
    "print(model_predictions)"
   ]
  },
  {
   "cell_type": "code",
   "execution_count": 11,
   "metadata": {},
   "outputs": [
    {
     "name": "stdout",
     "output_type": "stream",
     "text": [
      "I got 95.85% right!\n"
     ]
    }
   ],
   "source": [
    "print(\"I got {}% right!\".format(100. * np.sum((model_predictions == np.argmax(y_test, axis=1)).astype('uint8')) / len(y_test)))"
   ]
  },
  {
   "cell_type": "code",
   "execution_count": 12,
   "metadata": {},
   "outputs": [
    {
     "data": {
      "image/png": "[encoded data removed]",
      "text/plain": [
       "<matplotlib.figure.Figure at 0x26aa767df60>"
      ]
     },
     "metadata": {},
     "output_type": "display_data"
    },
    {
     "data": {
      "image/png": "[encoded data removed]",
      "text/plain": [
       "<matplotlib.figure.Figure at 0x26aa76a72b0>"
      ]
     },
     "metadata": {},
     "output_type": "display_data"
    },
    {
     "data": {
      "image/png": "[encoded data removed]",
      "text/plain": [
       "<matplotlib.figure.Figure at 0x26aac6cfc88>"
      ]
     },
     "metadata": {},
     "output_type": "display_data"
    },
    {
     "data": {
      "image/png": "[encoded data removed]",
      "text/plain": [
       "<matplotlib.figure.Figure at 0x26aac6f9b00>"
      ]
     },
     "metadata": {},
     "output_type": "display_data"
    },
    {
     "data": {
      "image/png": "[encoded data removed]",
      "text/plain": [
       "<matplotlib.figure.Figure at 0x26aad771dd8>"
      ]
     },
     "metadata": {},
     "output_type": "display_data"
    },
    {
     "data": {
      "image/png": "[encoded data removed]",
      "text/plain": [
       "<matplotlib.figure.Figure at 0x26aad79ab70>"
      ]
     },
     "metadata": {},
     "output_type": "display_data"
    },
    {
     "data": {
      "image/png": "[encoded data removed]",
      "text/plain": [
       "<matplotlib.figure.Figure at 0x26aad804198>"
      ]
     },
     "metadata": {},
     "output_type": "display_data"
    },
    {
     "data": {
      "image/png": "[encoded data removed]",
      "text/plain": [
       "<matplotlib.figure.Figure at 0x26aad861048>"
      ]
     },
     "metadata": {},
     "output_type": "display_data"
    },
    {
     "data": {
      "image/png": "[encoded data removed]",
      "text/plain": [
       "<matplotlib.figure.Figure at 0x26aad90dcc0>"
      ]
     },
     "metadata": {},
     "output_type": "display_data"
    },
    {
     "data": {
      "image/png": "[encoded data removed]",
      "text/plain": [
       "<matplotlib.figure.Figure at 0x26aad7d0a90>"
      ]
     },
     "metadata": {},
     "output_type": "display_data"
    }
   ],
   "source": [
    "num_images_to_show = 10\n",
    "\n",
    "show_numbers(x_test[0:num_images_to_show], model_predictions[0:num_images_to_show])"
   ]
  }
 ],
 "metadata": {
  "kernelspec": {
   "display_name": "Python 3",
   "language": "python",
   "name": "python3"
  },
  "language_info": {
   "codemirror_mode": {
    "name": "ipython",
    "version": 3
   },
   "file_extension": ".py",
   "mimetype": "text/x-python",
   "name": "python",
   "nbconvert_exporter": "python",
   "pygments_lexer": "ipython3",
   "version": "3.5.3"
  }
 },
 "nbformat": 4,
 "nbformat_minor": 2
}
