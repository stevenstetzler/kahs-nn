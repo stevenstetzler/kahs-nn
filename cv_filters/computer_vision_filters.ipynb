{
 "cells": [
  {
   "cell_type": "code",
   "execution_count": 1,
   "metadata": {},
   "outputs": [],
   "source": [
    "import cv2\n",
    "import numpy as np\n",
    "import urllib.request"
   ]
  },
  {
   "cell_type": "code",
   "execution_count": 2,
   "metadata": {},
   "outputs": [],
   "source": [
    "def capture_video(apply_func=None, *args, **kwargs):\n",
    "    cap = cv2.VideoCapture(0)\n",
    "    while True:\n",
    "            # Capture frame-by-frame\n",
    "            ret, frame = cap.read()\n",
    "\n",
    "            if apply_func is not None:\n",
    "                display_frame = apply_func(frame, *args, **kwargs)\n",
    "            else:\n",
    "                display_frame = frame\n",
    "                \n",
    "            # Display the resulting frame\n",
    "            cv2.imshow('frame', display_frame)\n",
    "            # When everything done, release the capture\n",
    "            if cv2.waitKey(1) & 0xFF == ord('q'):\n",
    "                    break\n",
    "\n",
    "    cap.release()\n",
    "    cv2.destroyAllWindows()"
   ]
  },
  {
   "cell_type": "code",
   "execution_count": 3,
   "metadata": {},
   "outputs": [],
   "source": [
    "def capture_video_phone(apply_func=None, *args, **kwargs):\n",
    "    host=\"192.168.0.100:8080\"\n",
    "    hoststr = 'http://' + host + '/video?x.mjpeg'\n",
    "\n",
    "    img_bytes = bytes()\n",
    "    i = 0\n",
    "    stream = urllib.request.urlopen(hoststr)\n",
    "\n",
    "    while True:\n",
    "        img_bytes += stream.read(1024)\n",
    "        a = img_bytes.find(b'\\xff\\xd8')\n",
    "        b = img_bytes.find(b'\\xff\\xd9')\n",
    "\n",
    "#         print(a, b)\n",
    "        \n",
    "        if a != -1 and b != -1:\n",
    "            jpg = img_bytes[a:b + 2]\n",
    "            img_bytes = img_bytes[b + 2:]\n",
    "            \n",
    "            frame = cv2.imdecode(np.fromstring(jpg, dtype=np.uint8), cv2.IMREAD_COLOR)\n",
    "\n",
    "            if apply_func is not None:\n",
    "                display_frame = apply_func(frame, *args, **kwargs)\n",
    "            else:\n",
    "                display_frame = frame\n",
    "                \n",
    "            # Display the resulting frame\n",
    "            cv2.imshow('frame', display_frame)\n",
    "            prev_frame = display_frame\n",
    "            # When everything done, release the capture\n",
    "            if cv2.waitKey(1) & 0xFF == ord('q'):\n",
    "                    break\n",
    "\n",
    "    cv2.destroyAllWindows()"
   ]
  },
  {
   "cell_type": "code",
   "execution_count": 4,
   "metadata": {},
   "outputs": [],
   "source": [
    "capture_video()"
   ]
  },
  {
   "cell_type": "code",
   "execution_count": 5,
   "metadata": {},
   "outputs": [],
   "source": [
    "def gray(img):\n",
    "    return cv2.cvtColor(img, cv2.COLOR_BGR2GRAY)"
   ]
  },
  {
   "cell_type": "code",
   "execution_count": 6,
   "metadata": {},
   "outputs": [],
   "source": [
    "capture_video(gray)"
   ]
  },
  {
   "cell_type": "code",
   "execution_count": 7,
   "metadata": {},
   "outputs": [],
   "source": [
    "def sobel_vertical(img):\n",
    "    return cv2.Sobel(img, cv2.CV_64F, 1, 0, ksize=5)"
   ]
  },
  {
   "cell_type": "code",
   "execution_count": 8,
   "metadata": {},
   "outputs": [],
   "source": [
    "capture_video(sobel_vertical)"
   ]
  },
  {
   "cell_type": "code",
   "execution_count": 9,
   "metadata": {},
   "outputs": [],
   "source": [
    "def sobel_horizontal(img):\n",
    "    return cv2.Sobel(img, cv2.CV_64F, 0, 1, ksize=5)"
   ]
  },
  {
   "cell_type": "code",
   "execution_count": 10,
   "metadata": {},
   "outputs": [],
   "source": [
    "capture_video(sobel_horizontal)"
   ]
  },
  {
   "cell_type": "code",
   "execution_count": 11,
   "metadata": {},
   "outputs": [],
   "source": [
    "def sobel_both(img):\n",
    "    return cv2.Sobel(img, cv2.CV_64F, 1, 1, ksize=5)"
   ]
  },
  {
   "cell_type": "code",
   "execution_count": 12,
   "metadata": {},
   "outputs": [],
   "source": [
    "capture_video(sobel_both)"
   ]
  },
  {
   "cell_type": "code",
   "execution_count": 13,
   "metadata": {},
   "outputs": [],
   "source": [
    "def edges(img):\n",
    "    return cv2.Canny(img, 100, 150)"
   ]
  },
  {
   "cell_type": "code",
   "execution_count": 14,
   "metadata": {},
   "outputs": [],
   "source": [
    "capture_video(edges)"
   ]
  },
  {
   "cell_type": "code",
   "execution_count": 15,
   "metadata": {},
   "outputs": [],
   "source": [
    "face_detector_harr = cv2.CascadeClassifier(\"haarcascade_frontalface_default.xml\")\n",
    "def faces_harr(img, detector, scale_factor=1.05, min_neighbors=5):\n",
    "    faces = detector.detectMultiScale(img, scale_factor, min_neighbors)\n",
    "    for (x, y, w, h) in faces:\n",
    "        cv2.rectangle(img, (x, y), (x + w, y + h), (255, 0, 0), 2)\n",
    "    return img"
   ]
  },
  {
   "cell_type": "code",
   "execution_count": 16,
   "metadata": {},
   "outputs": [],
   "source": [
    "capture_video(faces_harr, face_detector_harr, scale_factor=1.50)"
   ]
  },
  {
   "cell_type": "code",
   "execution_count": 17,
   "metadata": {},
   "outputs": [],
   "source": [
    "face_detector_lbp = cv2.CascadeClassifier(\"lbpcascade_frontalface.xml\")\n",
    "def faces_lbp(img, detector, scale_factor=1.50, min_neighbors=5):\n",
    "    faces = detector.detectMultiScale(img, scale_factor, min_neighbors)\n",
    "    for (x, y, w, h) in faces:\n",
    "        cv2.rectangle(img, (x, y), (x + w, y + h), (255, 0, 0), 2)\n",
    "    return img"
   ]
  },
  {
   "cell_type": "code",
   "execution_count": 18,
   "metadata": {},
   "outputs": [],
   "source": [
    "capture_video(faces_lbp, face_detector_lbp)"
   ]
  },
  {
   "cell_type": "code",
   "execution_count": 19,
   "metadata": {},
   "outputs": [],
   "source": [
    "capture_video_phone(edges)"
   ]
  },
  {
   "cell_type": "code",
   "execution_count": 20,
   "metadata": {},
   "outputs": [],
   "source": [
    "capture_video_phone(faces_lbp, face_detector_lbp)"
   ]
  }
 ],
 "metadata": {
  "kernelspec": {
   "display_name": "Python 3",
   "language": "python",
   "name": "python3"
  },
  "language_info": {
   "codemirror_mode": {
    "name": "ipython",
    "version": 3
   },
   "file_extension": ".py",
   "mimetype": "text/x-python",
   "name": "python",
   "nbconvert_exporter": "python",
   "pygments_lexer": "ipython3",
   "version": "3.5.3"
  }
 },
 "nbformat": 4,
 "nbformat_minor": 2
}
